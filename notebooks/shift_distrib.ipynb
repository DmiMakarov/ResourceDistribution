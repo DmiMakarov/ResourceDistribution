{
 "cells": [
  {
   "cell_type": "markdown",
   "metadata": {},
   "source": [
    "Для того, чтобы посчитать смены, следующий алгоритм\n",
    "\n",
    "Есть соответсвие между операцией, станком, количеству ресурсов\n",
    "\n",
    "Инфраструктура определяет, сколько одновременно можно сделать операций\n",
    "\n",
    "И люди тоже привязаны к инфраструктуре\n",
    "\n",
    "Поэтому надо сделать следующий файл с конфигурацией:\n",
    "\n",
    "Станок Количество_станков Операция Тип_людей Количество_людей \n",
    "\n",
    "Останется только перевести из нормо-часов в дни.\n",
    "\n",
    "1) Сначала заполняем по максимому дневные смены\n",
    "2) при нехватке в месяц дневных смен, заполняем ночные \n",
    "\n",
    "Как будто это можно сделать средствами пандаса\n",
    "\n",
    "1. Берём мерджим таблицу с операциями и таблицу конфигурации\n",
    "2. Нормо-часы делим на количество станков\n",
    "3. Дублируем каждую строчку со станком в соответсввии с количеством и дропаем количество\n",
    "4. Получаем остаток от деления количества нормо-часов на 12, записываем это в колонку num_shifts\n",
    "5. Делаем табличку со списком требуемых сотрудников\n",
    "6. Прибавляем к num_shifts дату старта, тем самым получая с какого числа по какое будет дневная смена\n",
    "7. Для тех, кто num_shifts > max_days, прибавляем  к дате старта (num_days - num_shift) (надо учесть, что может быть большой разрыв)\n",
    "\n",
    "Этот алгоритм верен при параллельных операциях\n",
    "\n",
    "На деле происходит последовательные операции. Глупо будет думать, что вот они сначала сделают все детали B, чтобы сделать деталь А. Наверное, сначала сделают n деталей В, потом их передадут дальше. По принципу конвейера, это просто даст некотурую начальную задерджку. Возмонжно, она будет в рамках часа, не более. Поэтому такой алгоритм может дать приблизительную оценку."
   ]
  },
  {
   "cell_type": "code",
   "execution_count": 52,
   "metadata": {},
   "outputs": [],
   "source": [
    "import pandas as pd\n",
    "import numpy as np"
   ]
  },
  {
   "cell_type": "code",
   "execution_count": 53,
   "metadata": {},
   "outputs": [],
   "source": [
    "staff_conf = pd.read_excel(\"../data/StaffConfig.xlsx\")\n",
    "times = pd.read_excel(\"../data/answ.xlsx\").drop(columns=[\"Unnamed: 0\"])"
   ]
  },
  {
   "cell_type": "code",
   "execution_count": 54,
   "metadata": {},
   "outputs": [
    {
     "data": {
      "text/html": [
       "<div>\n",
       "<style scoped>\n",
       "    .dataframe tbody tr th:only-of-type {\n",
       "        vertical-align: middle;\n",
       "    }\n",
       "\n",
       "    .dataframe tbody tr th {\n",
       "        vertical-align: top;\n",
       "    }\n",
       "\n",
       "    .dataframe thead th {\n",
       "        text-align: right;\n",
       "    }\n",
       "</style>\n",
       "<table border=\"1\" class=\"dataframe\">\n",
       "  <thead>\n",
       "    <tr style=\"text-align: right;\">\n",
       "      <th></th>\n",
       "      <th>Станок</th>\n",
       "      <th>Количество станков</th>\n",
       "      <th>Операция</th>\n",
       "      <th>Специалист</th>\n",
       "      <th>Количество людей</th>\n",
       "    </tr>\n",
       "  </thead>\n",
       "  <tbody>\n",
       "    <tr>\n",
       "      <th>0</th>\n",
       "      <td>Лазерный станок 2030</td>\n",
       "      <td>1</td>\n",
       "      <td>Лазерная резка листа</td>\n",
       "      <td>Оператор станок с пу/лазер</td>\n",
       "      <td>1</td>\n",
       "    </tr>\n",
       "    <tr>\n",
       "      <th>1</th>\n",
       "      <td>Продольно-фрезерный станок - вертикальный</td>\n",
       "      <td>1</td>\n",
       "      <td>Вертикально-фрезерная</td>\n",
       "      <td>Станочник широкого профиля</td>\n",
       "      <td>5</td>\n",
       "    </tr>\n",
       "    <tr>\n",
       "      <th>2</th>\n",
       "      <td>Токарный станок (SLZ-500E)</td>\n",
       "      <td>1</td>\n",
       "      <td>Токарная</td>\n",
       "      <td>Станочник широкого профиля</td>\n",
       "      <td>5</td>\n",
       "    </tr>\n",
       "    <tr>\n",
       "      <th>3</th>\n",
       "      <td>Пост сборки</td>\n",
       "      <td>1</td>\n",
       "      <td>Сборочная</td>\n",
       "      <td>Слесарь по сборке</td>\n",
       "      <td>2</td>\n",
       "    </tr>\n",
       "    <tr>\n",
       "      <th>4</th>\n",
       "      <td>Пост сборки</td>\n",
       "      <td>1</td>\n",
       "      <td>Упаковочная</td>\n",
       "      <td>Слесарь по сборке</td>\n",
       "      <td>1</td>\n",
       "    </tr>\n",
       "    <tr>\n",
       "      <th>5</th>\n",
       "      <td>Ленточная пила (MER Shark 281 CCS)</td>\n",
       "      <td>1</td>\n",
       "      <td>Ленточно-отрезная</td>\n",
       "      <td>Слесарь по сборке</td>\n",
       "      <td>4</td>\n",
       "    </tr>\n",
       "    <tr>\n",
       "      <th>6</th>\n",
       "      <td>Дисковая пила (KKS 45 1NA)</td>\n",
       "      <td>1</td>\n",
       "      <td>Слесарная</td>\n",
       "      <td>Слесарь по сборке</td>\n",
       "      <td>1</td>\n",
       "    </tr>\n",
       "    <tr>\n",
       "      <th>7</th>\n",
       "      <td>Сварочный пост</td>\n",
       "      <td>1</td>\n",
       "      <td>Сварка полуавтоматом в среде защитного газа (MIG)</td>\n",
       "      <td>Эл. Сварщик и п/авт машин</td>\n",
       "      <td>1</td>\n",
       "    </tr>\n",
       "    <tr>\n",
       "      <th>8</th>\n",
       "      <td>Листосгибочный станок 7630</td>\n",
       "      <td>1</td>\n",
       "      <td>Листогибочная</td>\n",
       "      <td>Оператор станок с пу/гибка</td>\n",
       "      <td>1</td>\n",
       "    </tr>\n",
       "    <tr>\n",
       "      <th>9</th>\n",
       "      <td>Вальцовочный станок (Prinzng RME70/103)</td>\n",
       "      <td>1</td>\n",
       "      <td>Вальцовочнуя</td>\n",
       "      <td>Оператор станок с пу/гибка</td>\n",
       "      <td>1</td>\n",
       "    </tr>\n",
       "    <tr>\n",
       "      <th>10</th>\n",
       "      <td>Лента порошковой окраски</td>\n",
       "      <td>1</td>\n",
       "      <td>Окрашивание порошком</td>\n",
       "      <td>Оператор окрасочно-сушильной линии и агрегата</td>\n",
       "      <td>1</td>\n",
       "    </tr>\n",
       "    <tr>\n",
       "      <th>11</th>\n",
       "      <td>Лента порошковой окраски</td>\n",
       "      <td>1</td>\n",
       "      <td>Окрашивание порошком</td>\n",
       "      <td>Рабочий по металлопрокату и окраске</td>\n",
       "      <td>1</td>\n",
       "    </tr>\n",
       "    <tr>\n",
       "      <th>12</th>\n",
       "      <td>Лазерный станок 5030</td>\n",
       "      <td>1</td>\n",
       "      <td>Лазерная резка трубы</td>\n",
       "      <td>Оператор</td>\n",
       "      <td>1</td>\n",
       "    </tr>\n",
       "    <tr>\n",
       "      <th>13</th>\n",
       "      <td>Листосгибочный станок 5230</td>\n",
       "      <td>1</td>\n",
       "      <td>Листогибочная1</td>\n",
       "      <td>Оператор</td>\n",
       "      <td>1</td>\n",
       "    </tr>\n",
       "  </tbody>\n",
       "</table>\n",
       "</div>"
      ],
      "text/plain": [
       "                                       Станок  Количество станков  \\\n",
       "0                        Лазерный станок 2030                   1   \n",
       "1   Продольно-фрезерный станок - вертикальный                   1   \n",
       "2                  Токарный станок (SLZ-500E)                   1   \n",
       "3                                 Пост сборки                   1   \n",
       "4                                 Пост сборки                   1   \n",
       "5          Ленточная пила (MER Shark 281 CCS)                   1   \n",
       "6                  Дисковая пила (KKS 45 1NA)                   1   \n",
       "7                              Сварочный пост                   1   \n",
       "8                  Листосгибочный станок 7630                   1   \n",
       "9     Вальцовочный станок (Prinzng RME70/103)                   1   \n",
       "10                   Лента порошковой окраски                   1   \n",
       "11                   Лента порошковой окраски                   1   \n",
       "12                       Лазерный станок 5030                   1   \n",
       "13                 Листосгибочный станок 5230                   1   \n",
       "\n",
       "                                             Операция  \\\n",
       "0                                Лазерная резка листа   \n",
       "1                               Вертикально-фрезерная   \n",
       "2                                            Токарная   \n",
       "3                                           Сборочная   \n",
       "4                                         Упаковочная   \n",
       "5                                   Ленточно-отрезная   \n",
       "6                                           Слесарная   \n",
       "7   Сварка полуавтоматом в среде защитного газа (MIG)   \n",
       "8                                       Листогибочная   \n",
       "9                                        Вальцовочнуя   \n",
       "10                               Окрашивание порошком   \n",
       "11                               Окрашивание порошком   \n",
       "12                               Лазерная резка трубы   \n",
       "13                                     Листогибочная1   \n",
       "\n",
       "                                       Специалист  Количество людей  \n",
       "0                      Оператор станок с пу/лазер                 1  \n",
       "1                      Станочник широкого профиля                 5  \n",
       "2                      Станочник широкого профиля                 5  \n",
       "3                               Слесарь по сборке                 2  \n",
       "4                               Слесарь по сборке                 1  \n",
       "5                               Слесарь по сборке                 4  \n",
       "6                               Слесарь по сборке                 1  \n",
       "7                       Эл. Сварщик и п/авт машин                 1  \n",
       "8                      Оператор станок с пу/гибка                 1  \n",
       "9                      Оператор станок с пу/гибка                 1  \n",
       "10  Оператор окрасочно-сушильной линии и агрегата                 1  \n",
       "11            Рабочий по металлопрокату и окраске                 1  \n",
       "12                                       Оператор                 1  \n",
       "13                                       Оператор                 1  "
      ]
     },
     "execution_count": 54,
     "metadata": {},
     "output_type": "execute_result"
    }
   ],
   "source": [
    "staff_conf"
   ]
  },
  {
   "cell_type": "code",
   "execution_count": 55,
   "metadata": {},
   "outputs": [
    {
     "data": {
      "text/html": [
       "<div>\n",
       "<style scoped>\n",
       "    .dataframe tbody tr th:only-of-type {\n",
       "        vertical-align: middle;\n",
       "    }\n",
       "\n",
       "    .dataframe tbody tr th {\n",
       "        vertical-align: top;\n",
       "    }\n",
       "\n",
       "    .dataframe thead th {\n",
       "        text-align: right;\n",
       "    }\n",
       "</style>\n",
       "<table border=\"1\" class=\"dataframe\">\n",
       "  <thead>\n",
       "    <tr style=\"text-align: right;\">\n",
       "      <th></th>\n",
       "      <th>Operation</th>\n",
       "      <th>Time</th>\n",
       "    </tr>\n",
       "  </thead>\n",
       "  <tbody>\n",
       "    <tr>\n",
       "      <th>0</th>\n",
       "      <td>Лазерная резка листа</td>\n",
       "      <td>9.159444</td>\n",
       "    </tr>\n",
       "    <tr>\n",
       "      <th>1</th>\n",
       "      <td>Листогибочная</td>\n",
       "      <td>44.241111</td>\n",
       "    </tr>\n",
       "    <tr>\n",
       "      <th>2</th>\n",
       "      <td>Окрашивание порошком</td>\n",
       "      <td>8.000000</td>\n",
       "    </tr>\n",
       "    <tr>\n",
       "      <th>3</th>\n",
       "      <td>Сборочная</td>\n",
       "      <td>20.750000</td>\n",
       "    </tr>\n",
       "    <tr>\n",
       "      <th>4</th>\n",
       "      <td>Сварка полуавтоматом в среде защитного газа (MIG)</td>\n",
       "      <td>38.166667</td>\n",
       "    </tr>\n",
       "    <tr>\n",
       "      <th>5</th>\n",
       "      <td>Упаковочная</td>\n",
       "      <td>0.833333</td>\n",
       "    </tr>\n",
       "  </tbody>\n",
       "</table>\n",
       "</div>"
      ],
      "text/plain": [
       "                                           Operation       Time\n",
       "0                               Лазерная резка листа   9.159444\n",
       "1                                      Листогибочная  44.241111\n",
       "2                               Окрашивание порошком   8.000000\n",
       "3                                          Сборочная  20.750000\n",
       "4  Сварка полуавтоматом в среде защитного газа (MIG)  38.166667\n",
       "5                                        Упаковочная   0.833333"
      ]
     },
     "execution_count": 55,
     "metadata": {},
     "output_type": "execute_result"
    }
   ],
   "source": [
    "times"
   ]
  },
  {
   "cell_type": "code",
   "execution_count": 56,
   "metadata": {},
   "outputs": [
    {
     "data": {
      "text/html": [
       "<div>\n",
       "<style scoped>\n",
       "    .dataframe tbody tr th:only-of-type {\n",
       "        vertical-align: middle;\n",
       "    }\n",
       "\n",
       "    .dataframe tbody tr th {\n",
       "        vertical-align: top;\n",
       "    }\n",
       "\n",
       "    .dataframe thead th {\n",
       "        text-align: right;\n",
       "    }\n",
       "</style>\n",
       "<table border=\"1\" class=\"dataframe\">\n",
       "  <thead>\n",
       "    <tr style=\"text-align: right;\">\n",
       "      <th></th>\n",
       "      <th>Станок</th>\n",
       "      <th>Количество станков</th>\n",
       "      <th>Operation</th>\n",
       "      <th>Специалист</th>\n",
       "      <th>Количество людей</th>\n",
       "      <th>Time</th>\n",
       "    </tr>\n",
       "  </thead>\n",
       "  <tbody>\n",
       "    <tr>\n",
       "      <th>0</th>\n",
       "      <td>Лазерный станок 2030</td>\n",
       "      <td>1</td>\n",
       "      <td>Лазерная резка листа</td>\n",
       "      <td>Оператор станок с пу/лазер</td>\n",
       "      <td>1</td>\n",
       "      <td>9.159444</td>\n",
       "    </tr>\n",
       "    <tr>\n",
       "      <th>1</th>\n",
       "      <td>Листосгибочный станок 7630</td>\n",
       "      <td>1</td>\n",
       "      <td>Листогибочная</td>\n",
       "      <td>Оператор станок с пу/гибка</td>\n",
       "      <td>1</td>\n",
       "      <td>44.241111</td>\n",
       "    </tr>\n",
       "    <tr>\n",
       "      <th>2</th>\n",
       "      <td>Лента порошковой окраски</td>\n",
       "      <td>1</td>\n",
       "      <td>Окрашивание порошком</td>\n",
       "      <td>Оператор окрасочно-сушильной линии и агрегата</td>\n",
       "      <td>1</td>\n",
       "      <td>8.000000</td>\n",
       "    </tr>\n",
       "    <tr>\n",
       "      <th>3</th>\n",
       "      <td>Лента порошковой окраски</td>\n",
       "      <td>1</td>\n",
       "      <td>Окрашивание порошком</td>\n",
       "      <td>Рабочий по металлопрокату и окраске</td>\n",
       "      <td>1</td>\n",
       "      <td>8.000000</td>\n",
       "    </tr>\n",
       "    <tr>\n",
       "      <th>4</th>\n",
       "      <td>Пост сборки</td>\n",
       "      <td>1</td>\n",
       "      <td>Сборочная</td>\n",
       "      <td>Слесарь по сборке</td>\n",
       "      <td>2</td>\n",
       "      <td>20.750000</td>\n",
       "    </tr>\n",
       "    <tr>\n",
       "      <th>5</th>\n",
       "      <td>Сварочный пост</td>\n",
       "      <td>1</td>\n",
       "      <td>Сварка полуавтоматом в среде защитного газа (MIG)</td>\n",
       "      <td>Эл. Сварщик и п/авт машин</td>\n",
       "      <td>1</td>\n",
       "      <td>38.166667</td>\n",
       "    </tr>\n",
       "    <tr>\n",
       "      <th>6</th>\n",
       "      <td>Пост сборки</td>\n",
       "      <td>1</td>\n",
       "      <td>Упаковочная</td>\n",
       "      <td>Слесарь по сборке</td>\n",
       "      <td>1</td>\n",
       "      <td>0.833333</td>\n",
       "    </tr>\n",
       "  </tbody>\n",
       "</table>\n",
       "</div>"
      ],
      "text/plain": [
       "                       Станок  Количество станков  \\\n",
       "0        Лазерный станок 2030                   1   \n",
       "1  Листосгибочный станок 7630                   1   \n",
       "2    Лента порошковой окраски                   1   \n",
       "3    Лента порошковой окраски                   1   \n",
       "4                 Пост сборки                   1   \n",
       "5              Сварочный пост                   1   \n",
       "6                 Пост сборки                   1   \n",
       "\n",
       "                                           Operation  \\\n",
       "0                               Лазерная резка листа   \n",
       "1                                      Листогибочная   \n",
       "2                               Окрашивание порошком   \n",
       "3                               Окрашивание порошком   \n",
       "4                                          Сборочная   \n",
       "5  Сварка полуавтоматом в среде защитного газа (MIG)   \n",
       "6                                        Упаковочная   \n",
       "\n",
       "                                      Специалист  Количество людей       Time  \n",
       "0                     Оператор станок с пу/лазер                 1   9.159444  \n",
       "1                     Оператор станок с пу/гибка                 1  44.241111  \n",
       "2  Оператор окрасочно-сушильной линии и агрегата                 1   8.000000  \n",
       "3            Рабочий по металлопрокату и окраске                 1   8.000000  \n",
       "4                              Слесарь по сборке                 2  20.750000  \n",
       "5                      Эл. Сварщик и п/авт машин                 1  38.166667  \n",
       "6                              Слесарь по сборке                 1   0.833333  "
      ]
     },
     "execution_count": 56,
     "metadata": {},
     "output_type": "execute_result"
    }
   ],
   "source": [
    "merged_times = (staff_conf.rename(columns={\"Операция\" : \"Operation\"})\n",
    "               .merge(times, on=[\"Operation\"], how=\"right\"))\n",
    "merged_times"
   ]
  },
  {
   "cell_type": "code",
   "execution_count": 57,
   "metadata": {},
   "outputs": [
    {
     "data": {
      "text/plain": [
       "[]"
      ]
     },
     "execution_count": 57,
     "metadata": {},
     "output_type": "execute_result"
    }
   ],
   "source": [
    "unknown_operations = merged_times[merged_times[\"Станок\"].isna()][\"Operation\"].to_list()\n",
    "unknown_operations"
   ]
  },
  {
   "cell_type": "code",
   "execution_count": 58,
   "metadata": {},
   "outputs": [],
   "source": [
    "#merged_times[\"Количество станков\"] = 2"
   ]
  },
  {
   "cell_type": "code",
   "execution_count": 59,
   "metadata": {},
   "outputs": [],
   "source": [
    "merged_times[\"time_per_machine\"] = merged_times[\"Time\"] / merged_times[\"Количество станков\"]\n",
    "merged_times = merged_times.loc[np.repeat(merged_times.index, merged_times[\"Количество станков\"])]"
   ]
  },
  {
   "cell_type": "code",
   "execution_count": 60,
   "metadata": {},
   "outputs": [
    {
     "data": {
      "text/html": [
       "<div>\n",
       "<style scoped>\n",
       "    .dataframe tbody tr th:only-of-type {\n",
       "        vertical-align: middle;\n",
       "    }\n",
       "\n",
       "    .dataframe tbody tr th {\n",
       "        vertical-align: top;\n",
       "    }\n",
       "\n",
       "    .dataframe thead th {\n",
       "        text-align: right;\n",
       "    }\n",
       "</style>\n",
       "<table border=\"1\" class=\"dataframe\">\n",
       "  <thead>\n",
       "    <tr style=\"text-align: right;\">\n",
       "      <th></th>\n",
       "      <th>Станок</th>\n",
       "      <th>Количество станков</th>\n",
       "      <th>Operation</th>\n",
       "      <th>Специалист</th>\n",
       "      <th>Количество людей</th>\n",
       "      <th>Time</th>\n",
       "      <th>time_per_machine</th>\n",
       "    </tr>\n",
       "  </thead>\n",
       "  <tbody>\n",
       "    <tr>\n",
       "      <th>0</th>\n",
       "      <td>Лазерный станок 2030</td>\n",
       "      <td>1</td>\n",
       "      <td>Лазерная резка листа</td>\n",
       "      <td>Оператор станок с пу/лазер</td>\n",
       "      <td>1</td>\n",
       "      <td>9.159444</td>\n",
       "      <td>9.159444</td>\n",
       "    </tr>\n",
       "    <tr>\n",
       "      <th>1</th>\n",
       "      <td>Листосгибочный станок 7630</td>\n",
       "      <td>1</td>\n",
       "      <td>Листогибочная</td>\n",
       "      <td>Оператор станок с пу/гибка</td>\n",
       "      <td>1</td>\n",
       "      <td>44.241111</td>\n",
       "      <td>44.241111</td>\n",
       "    </tr>\n",
       "    <tr>\n",
       "      <th>2</th>\n",
       "      <td>Лента порошковой окраски</td>\n",
       "      <td>1</td>\n",
       "      <td>Окрашивание порошком</td>\n",
       "      <td>Оператор окрасочно-сушильной линии и агрегата</td>\n",
       "      <td>1</td>\n",
       "      <td>8.000000</td>\n",
       "      <td>8.000000</td>\n",
       "    </tr>\n",
       "    <tr>\n",
       "      <th>3</th>\n",
       "      <td>Лента порошковой окраски</td>\n",
       "      <td>1</td>\n",
       "      <td>Окрашивание порошком</td>\n",
       "      <td>Рабочий по металлопрокату и окраске</td>\n",
       "      <td>1</td>\n",
       "      <td>8.000000</td>\n",
       "      <td>8.000000</td>\n",
       "    </tr>\n",
       "    <tr>\n",
       "      <th>4</th>\n",
       "      <td>Пост сборки</td>\n",
       "      <td>1</td>\n",
       "      <td>Сборочная</td>\n",
       "      <td>Слесарь по сборке</td>\n",
       "      <td>2</td>\n",
       "      <td>20.750000</td>\n",
       "      <td>20.750000</td>\n",
       "    </tr>\n",
       "    <tr>\n",
       "      <th>5</th>\n",
       "      <td>Сварочный пост</td>\n",
       "      <td>1</td>\n",
       "      <td>Сварка полуавтоматом в среде защитного газа (MIG)</td>\n",
       "      <td>Эл. Сварщик и п/авт машин</td>\n",
       "      <td>1</td>\n",
       "      <td>38.166667</td>\n",
       "      <td>38.166667</td>\n",
       "    </tr>\n",
       "    <tr>\n",
       "      <th>6</th>\n",
       "      <td>Пост сборки</td>\n",
       "      <td>1</td>\n",
       "      <td>Упаковочная</td>\n",
       "      <td>Слесарь по сборке</td>\n",
       "      <td>1</td>\n",
       "      <td>0.833333</td>\n",
       "      <td>0.833333</td>\n",
       "    </tr>\n",
       "  </tbody>\n",
       "</table>\n",
       "</div>"
      ],
      "text/plain": [
       "                       Станок  Количество станков  \\\n",
       "0        Лазерный станок 2030                   1   \n",
       "1  Листосгибочный станок 7630                   1   \n",
       "2    Лента порошковой окраски                   1   \n",
       "3    Лента порошковой окраски                   1   \n",
       "4                 Пост сборки                   1   \n",
       "5              Сварочный пост                   1   \n",
       "6                 Пост сборки                   1   \n",
       "\n",
       "                                           Operation  \\\n",
       "0                               Лазерная резка листа   \n",
       "1                                      Листогибочная   \n",
       "2                               Окрашивание порошком   \n",
       "3                               Окрашивание порошком   \n",
       "4                                          Сборочная   \n",
       "5  Сварка полуавтоматом в среде защитного газа (MIG)   \n",
       "6                                        Упаковочная   \n",
       "\n",
       "                                      Специалист  Количество людей       Time  \\\n",
       "0                     Оператор станок с пу/лазер                 1   9.159444   \n",
       "1                     Оператор станок с пу/гибка                 1  44.241111   \n",
       "2  Оператор окрасочно-сушильной линии и агрегата                 1   8.000000   \n",
       "3            Рабочий по металлопрокату и окраске                 1   8.000000   \n",
       "4                              Слесарь по сборке                 2  20.750000   \n",
       "5                      Эл. Сварщик и п/авт машин                 1  38.166667   \n",
       "6                              Слесарь по сборке                 1   0.833333   \n",
       "\n",
       "   time_per_machine  \n",
       "0          9.159444  \n",
       "1         44.241111  \n",
       "2          8.000000  \n",
       "3          8.000000  \n",
       "4         20.750000  \n",
       "5         38.166667  \n",
       "6          0.833333  "
      ]
     },
     "execution_count": 60,
     "metadata": {},
     "output_type": "execute_result"
    }
   ],
   "source": [
    "merged_times"
   ]
  },
  {
   "cell_type": "code",
   "execution_count": null,
   "metadata": {},
   "outputs": [],
   "source": [
    "max_days: int =  10\n",
    "\n",
    "merged_times[\"num_shifts\"] = np.ceil(merged_times[\"Time\"] / 12)\n",
    "merged_times[\"num_max_days\"] = np.floor(merged_times[\"num_shifts\"] / max_days)\n",
    "merged_times[\"num_night_shift\"] = merged_times[\"num_max_days\"] // 2 * max_days  + (merged_times[\"num_shifts\"] - merged_times[\"num_max_days\"] * max_days) * (merged_times[\"num_max_days\"] % 2)\n",
    "merged_times[\"num_day_shift\"] = merged_times[\"num_shifts\"] - merged_times[\"num_night_shift\"]"
   ]
  },
  {
   "cell_type": "code",
   "execution_count": null,
   "metadata": {},
   "outputs": [
    {
     "name": "stdout",
     "output_type": "stream",
     "text": [
      "(0.8, 10, 8)->0.0\n",
      "(1.1, 10, 11)->1.0\n",
      "(1.2, 10, 12)->2.0\n",
      "(2.2, 10, 22)->10.0\n",
      "(2.3, 10, 23)->10.0\n",
      "(3.2, 10, 32)->12.0\n"
     ]
    }
   ],
   "source": [
    "a = lambda num_max_days, max_days, num_shifts: np.floor(num_max_days)  // 2 * max_days  + (num_shifts - np.floor(num_max_days) * max_days) * (np.floor(num_max_days) % 2)\n",
    "\n",
    "for i,j,k in [(0.8, 10, 8), (1.1, 10, 11), (1.2, 10,12), (2.2, 10, 22), (2.3, 10, 23), (3.2, 10, 32)]:\n",
    "    print(f\"{i,j,k}->{a(i,j,k)}\")"
   ]
  },
  {
   "cell_type": "code",
   "execution_count": null,
   "metadata": {},
   "outputs": [
    {
     "data": {
      "text/plain": [
       "np.float64(22.0)"
      ]
     },
     "execution_count": 81,
     "metadata": {},
     "output_type": "execute_result"
    }
   ],
   "source": [
    "(np.floor(1.2) % 2) * 10  + (32 - np.floor(3.2) * 10) * (np.floor(3.2) % 2)"
   ]
  },
  {
   "cell_type": "code",
   "execution_count": 90,
   "metadata": {},
   "outputs": [
    {
     "data": {
      "text/plain": [
       "np.float64(1.0)"
      ]
     },
     "execution_count": 90,
     "metadata": {},
     "output_type": "execute_result"
    }
   ],
   "source": [
    "np.floor(3.2) // 2"
   ]
  },
  {
   "cell_type": "code",
   "execution_count": 83,
   "metadata": {},
   "outputs": [
    {
     "data": {
      "text/plain": [
       "np.float64(10.0)"
      ]
     },
     "execution_count": 83,
     "metadata": {},
     "output_type": "execute_result"
    }
   ],
   "source": [
    "(np.floor(3.2) % 2) * 10"
   ]
  },
  {
   "cell_type": "code",
   "execution_count": 96,
   "metadata": {},
   "outputs": [
    {
     "data": {
      "text/html": [
       "<div>\n",
       "<style scoped>\n",
       "    .dataframe tbody tr th:only-of-type {\n",
       "        vertical-align: middle;\n",
       "    }\n",
       "\n",
       "    .dataframe tbody tr th {\n",
       "        vertical-align: top;\n",
       "    }\n",
       "\n",
       "    .dataframe thead th {\n",
       "        text-align: right;\n",
       "    }\n",
       "</style>\n",
       "<table border=\"1\" class=\"dataframe\">\n",
       "  <thead>\n",
       "    <tr style=\"text-align: right;\">\n",
       "      <th></th>\n",
       "      <th>Специалист</th>\n",
       "      <th>Количество людей</th>\n",
       "      <th>num_day_shift</th>\n",
       "      <th>num_night_shift</th>\n",
       "    </tr>\n",
       "  </thead>\n",
       "  <tbody>\n",
       "    <tr>\n",
       "      <th>0</th>\n",
       "      <td>Оператор станок с пу/лазер</td>\n",
       "      <td>1</td>\n",
       "      <td>1.0</td>\n",
       "      <td>0.0</td>\n",
       "    </tr>\n",
       "    <tr>\n",
       "      <th>1</th>\n",
       "      <td>Оператор станок с пу/гибка</td>\n",
       "      <td>1</td>\n",
       "      <td>4.0</td>\n",
       "      <td>0.0</td>\n",
       "    </tr>\n",
       "    <tr>\n",
       "      <th>2</th>\n",
       "      <td>Оператор окрасочно-сушильной линии и агрегата</td>\n",
       "      <td>1</td>\n",
       "      <td>1.0</td>\n",
       "      <td>0.0</td>\n",
       "    </tr>\n",
       "    <tr>\n",
       "      <th>3</th>\n",
       "      <td>Рабочий по металлопрокату и окраске</td>\n",
       "      <td>1</td>\n",
       "      <td>1.0</td>\n",
       "      <td>0.0</td>\n",
       "    </tr>\n",
       "    <tr>\n",
       "      <th>4</th>\n",
       "      <td>Слесарь по сборке</td>\n",
       "      <td>2</td>\n",
       "      <td>2.0</td>\n",
       "      <td>0.0</td>\n",
       "    </tr>\n",
       "    <tr>\n",
       "      <th>5</th>\n",
       "      <td>Эл. Сварщик и п/авт машин</td>\n",
       "      <td>1</td>\n",
       "      <td>4.0</td>\n",
       "      <td>0.0</td>\n",
       "    </tr>\n",
       "    <tr>\n",
       "      <th>6</th>\n",
       "      <td>Слесарь по сборке</td>\n",
       "      <td>1</td>\n",
       "      <td>1.0</td>\n",
       "      <td>0.0</td>\n",
       "    </tr>\n",
       "  </tbody>\n",
       "</table>\n",
       "</div>"
      ],
      "text/plain": [
       "                                      Специалист  Количество людей  \\\n",
       "0                     Оператор станок с пу/лазер                 1   \n",
       "1                     Оператор станок с пу/гибка                 1   \n",
       "2  Оператор окрасочно-сушильной линии и агрегата                 1   \n",
       "3            Рабочий по металлопрокату и окраске                 1   \n",
       "4                              Слесарь по сборке                 2   \n",
       "5                      Эл. Сварщик и п/авт машин                 1   \n",
       "6                              Слесарь по сборке                 1   \n",
       "\n",
       "   num_day_shift  num_night_shift  \n",
       "0            1.0              0.0  \n",
       "1            4.0              0.0  \n",
       "2            1.0              0.0  \n",
       "3            1.0              0.0  \n",
       "4            2.0              0.0  \n",
       "5            4.0              0.0  \n",
       "6            1.0              0.0  "
      ]
     },
     "execution_count": 96,
     "metadata": {},
     "output_type": "execute_result"
    }
   ],
   "source": [
    "prepared_staff = merged_times[[\"Специалист\", \"Количество людей\", \"num_day_shift\", \"num_night_shift\"]]\n",
    "prepared_staff"
   ]
  },
  {
   "cell_type": "code",
   "execution_count": 26,
   "metadata": {},
   "outputs": [],
   "source": [
    "import datetime\n",
    "import pandas as pd"
   ]
  },
  {
   "cell_type": "code",
   "execution_count": 31,
   "metadata": {},
   "outputs": [],
   "source": [
    "operations_params: dict[str, list] = {\"Сотрудник\": [\"Programmer\"],\n",
    "                                      \"Операция\": [\"Coding\"],\n",
    "                                      \"Количество\": [1]}\n",
    "\n",
    "operations_dates: dict[str, list[tuple[datetime.date, bool]]] = {\"Programmer|Coding\":\n",
    "[(datetime.date(2024,12,12), False, 9.9), (datetime.date(2024,12,12), True, 9.1), (datetime.date(2024,12,13), False, 5)]}\n",
    "\n",
    "min_date = datetime.date(2024,12,12)\n",
    "max_date = datetime.date(2024,12,13)"
   ]
  },
  {
   "cell_type": "code",
   "execution_count": 30,
   "metadata": {},
   "outputs": [
    {
     "data": {
      "text/html": [
       "<div>\n",
       "<style scoped>\n",
       "    .dataframe tbody tr th:only-of-type {\n",
       "        vertical-align: middle;\n",
       "    }\n",
       "\n",
       "    .dataframe tbody tr th {\n",
       "        vertical-align: top;\n",
       "    }\n",
       "\n",
       "    .dataframe thead th {\n",
       "        text-align: right;\n",
       "    }\n",
       "</style>\n",
       "<table border=\"1\" class=\"dataframe\">\n",
       "  <thead>\n",
       "    <tr style=\"text-align: right;\">\n",
       "      <th></th>\n",
       "      <th>Сотрудник</th>\n",
       "      <th>Операция</th>\n",
       "      <th>Количество</th>\n",
       "    </tr>\n",
       "  </thead>\n",
       "  <tbody>\n",
       "    <tr>\n",
       "      <th>0</th>\n",
       "      <td>Programmer</td>\n",
       "      <td>Coding</td>\n",
       "      <td>1</td>\n",
       "    </tr>\n",
       "  </tbody>\n",
       "</table>\n",
       "</div>"
      ],
      "text/plain": [
       "    Сотрудник Операция  Количество\n",
       "0  Programmer   Coding           1"
      ]
     },
     "execution_count": 30,
     "metadata": {},
     "output_type": "execute_result"
    }
   ],
   "source": [
    "staff_table = pd.DataFrame(operations_params)\n",
    "staff_table"
   ]
  },
  {
   "cell_type": "code",
   "execution_count": 29,
   "metadata": {},
   "outputs": [
    {
     "data": {
      "text/plain": [
       "1"
      ]
     },
     "execution_count": 29,
     "metadata": {},
     "output_type": "execute_result"
    }
   ],
   "source": [
    "(max_date - min_date).days"
   ]
  },
  {
   "cell_type": "code",
   "execution_count": 32,
   "metadata": {},
   "outputs": [
    {
     "data": {
      "text/html": [
       "<div>\n",
       "<style scoped>\n",
       "    .dataframe tbody tr th:only-of-type {\n",
       "        vertical-align: middle;\n",
       "    }\n",
       "\n",
       "    .dataframe tbody tr th {\n",
       "        vertical-align: top;\n",
       "    }\n",
       "\n",
       "    .dataframe thead th {\n",
       "        text-align: right;\n",
       "    }\n",
       "</style>\n",
       "<table border=\"1\" class=\"dataframe\">\n",
       "  <thead>\n",
       "    <tr style=\"text-align: right;\">\n",
       "      <th></th>\n",
       "      <th>12-00-2024 День</th>\n",
       "      <th>12-00-2024 Ночь</th>\n",
       "      <th>13-00-2024 День</th>\n",
       "      <th>13-00-2024 Ночь</th>\n",
       "    </tr>\n",
       "  </thead>\n",
       "  <tbody>\n",
       "  </tbody>\n",
       "</table>\n",
       "</div>"
      ],
      "text/plain": [
       "Empty DataFrame\n",
       "Columns: [12-00-2024 День, 12-00-2024 Ночь, 13-00-2024 День, 13-00-2024 Ночь]\n",
       "Index: []"
      ]
     },
     "execution_count": 32,
     "metadata": {},
     "output_type": "execute_result"
    }
   ],
   "source": [
    "base_range = [(min_date + datetime.timedelta(days=i)).strftime(\"%d-%M-%Y\") for i in range((max_date - min_date).days + 1)]\n",
    "columns: list = [[date + \" День\", date + \" Ночь\"] \\\n",
    "                      for date in base_range]\n",
    "columns = [item for row in columns for item in row]\n",
    "dates = pd.DataFrame(columns=columns, dtype=float)\n",
    "dates"
   ]
  },
  {
   "cell_type": "code",
   "execution_count": 33,
   "metadata": {},
   "outputs": [],
   "source": [
    "merged = pd.concat([staff_table, dates]).fillna(0)"
   ]
  },
  {
   "cell_type": "code",
   "execution_count": 34,
   "metadata": {},
   "outputs": [
    {
     "data": {
      "text/plain": [
       "{'Programmer|Coding': [('12-00-2024 День', 9.9),\n",
       "  ('12-00-2024 Ночь', 9.1),\n",
       "  ('13-00-2024 День', 5)]}"
      ]
     },
     "execution_count": 34,
     "metadata": {},
     "output_type": "execute_result"
    }
   ],
   "source": [
    "new_op_dates = {}\n",
    "\n",
    "for val, dates in operations_dates.items():\n",
    "    tmp = []\n",
    "    for date, is_night, count in dates:\n",
    "        if is_night:\n",
    "            tmp.append((date.strftime(\"%d-%M-%Y\") + \" Ночь\", count))\n",
    "        else:\n",
    "            tmp.append((date.strftime(\"%d-%M-%Y\") + \" День\", count))\n",
    "    new_op_dates[val] = tmp\n",
    "new_op_dates"
   ]
  },
  {
   "cell_type": "code",
   "execution_count": 29,
   "metadata": {},
   "outputs": [
    {
     "data": {
      "text/plain": [
       "0    True\n",
       "dtype: bool"
      ]
     },
     "execution_count": 29,
     "metadata": {},
     "output_type": "execute_result"
    }
   ],
   "source": [
    "(merged[\"Сотрудник\"] == val.split(\"|\")[0]) & (merged[\"Операция\"] == val.split(\"|\")[1])"
   ]
  },
  {
   "cell_type": "code",
   "execution_count": 35,
   "metadata": {},
   "outputs": [],
   "source": [
    "for val, dates in new_op_dates.items():\n",
    "    dates_ = [date[0] for date in dates]\n",
    "    count = [count[1] for count in dates]\n",
    "    merged.loc[(merged[\"Сотрудник\"] == val.split(\"|\")[0]) &\n",
    "               (merged[\"Операция\"] == val.split(\"|\")[1]), dates_] = count"
   ]
  },
  {
   "cell_type": "code",
   "execution_count": 36,
   "metadata": {},
   "outputs": [
    {
     "data": {
      "text/html": [
       "<div>\n",
       "<style scoped>\n",
       "    .dataframe tbody tr th:only-of-type {\n",
       "        vertical-align: middle;\n",
       "    }\n",
       "\n",
       "    .dataframe tbody tr th {\n",
       "        vertical-align: top;\n",
       "    }\n",
       "\n",
       "    .dataframe thead th {\n",
       "        text-align: right;\n",
       "    }\n",
       "</style>\n",
       "<table border=\"1\" class=\"dataframe\">\n",
       "  <thead>\n",
       "    <tr style=\"text-align: right;\">\n",
       "      <th></th>\n",
       "      <th>Сотрудник</th>\n",
       "      <th>Операция</th>\n",
       "      <th>Количество</th>\n",
       "      <th>12-00-2024 День</th>\n",
       "      <th>12-00-2024 Ночь</th>\n",
       "      <th>13-00-2024 День</th>\n",
       "      <th>13-00-2024 Ночь</th>\n",
       "    </tr>\n",
       "  </thead>\n",
       "  <tbody>\n",
       "    <tr>\n",
       "      <th>0</th>\n",
       "      <td>Programmer</td>\n",
       "      <td>Coding</td>\n",
       "      <td>1.0</td>\n",
       "      <td>9.9</td>\n",
       "      <td>9.1</td>\n",
       "      <td>5.0</td>\n",
       "      <td>0.0</td>\n",
       "    </tr>\n",
       "  </tbody>\n",
       "</table>\n",
       "</div>"
      ],
      "text/plain": [
       "    Сотрудник Операция  Количество  12-00-2024 День  12-00-2024 Ночь  \\\n",
       "0  Programmer   Coding         1.0              9.9              9.1   \n",
       "\n",
       "   13-00-2024 День  13-00-2024 Ночь  \n",
       "0              5.0              0.0  "
      ]
     },
     "execution_count": 36,
     "metadata": {},
     "output_type": "execute_result"
    }
   ],
   "source": [
    "\n",
    "merged"
   ]
  },
  {
   "cell_type": "code",
   "execution_count": 38,
   "metadata": {},
   "outputs": [
    {
     "data": {
      "text/html": [
       "<style type=\"text/css\">\n",
       "</style>\n",
       "<table id=\"T_99947\">\n",
       "  <thead>\n",
       "    <tr>\n",
       "      <th class=\"blank level0\" >&nbsp;</th>\n",
       "      <th id=\"T_99947_level0_col0\" class=\"col_heading level0 col0\" >Сотрудник</th>\n",
       "      <th id=\"T_99947_level0_col1\" class=\"col_heading level0 col1\" >Операция</th>\n",
       "      <th id=\"T_99947_level0_col2\" class=\"col_heading level0 col2\" >Количество</th>\n",
       "      <th id=\"T_99947_level0_col3\" class=\"col_heading level0 col3\" >12-00-2024 День</th>\n",
       "      <th id=\"T_99947_level0_col4\" class=\"col_heading level0 col4\" >12-00-2024 Ночь</th>\n",
       "      <th id=\"T_99947_level0_col5\" class=\"col_heading level0 col5\" >13-00-2024 День</th>\n",
       "      <th id=\"T_99947_level0_col6\" class=\"col_heading level0 col6\" >13-00-2024 Ночь</th>\n",
       "    </tr>\n",
       "  </thead>\n",
       "  <tbody>\n",
       "    <tr>\n",
       "      <th id=\"T_99947_level0_row0\" class=\"row_heading level0 row0\" >0</th>\n",
       "      <td id=\"T_99947_row0_col0\" class=\"data row0 col0\" >Programmer</td>\n",
       "      <td id=\"T_99947_row0_col1\" class=\"data row0 col1\" >Coding</td>\n",
       "      <td id=\"T_99947_row0_col2\" class=\"data row0 col2\" >1.00</td>\n",
       "      <td id=\"T_99947_row0_col3\" class=\"data row0 col3\" >9.90</td>\n",
       "      <td id=\"T_99947_row0_col4\" class=\"data row0 col4\" >9.10</td>\n",
       "      <td id=\"T_99947_row0_col5\" class=\"data row0 col5\" >5.00</td>\n",
       "      <td id=\"T_99947_row0_col6\" class=\"data row0 col6\" >0.00</td>\n",
       "    </tr>\n",
       "  </tbody>\n",
       "</table>\n"
      ],
      "text/plain": [
       "<pandas.io.formats.style.Styler at 0x22482b42d50>"
      ]
     },
     "execution_count": 38,
     "metadata": {},
     "output_type": "execute_result"
    }
   ],
   "source": [
    "merged.style.format(precision=2)"
   ]
  },
  {
   "cell_type": "code",
   "execution_count": null,
   "metadata": {},
   "outputs": [
    {
     "data": {
      "text/html": [
       "<div>\n",
       "<style scoped>\n",
       "    .dataframe tbody tr th:only-of-type {\n",
       "        vertical-align: middle;\n",
       "    }\n",
       "\n",
       "    .dataframe tbody tr th {\n",
       "        vertical-align: top;\n",
       "    }\n",
       "\n",
       "    .dataframe thead th {\n",
       "        text-align: right;\n",
       "    }\n",
       "</style>\n",
       "<table border=\"1\" class=\"dataframe\">\n",
       "  <thead>\n",
       "    <tr style=\"text-align: right;\">\n",
       "      <th></th>\n",
       "      <th>Сотрудник</th>\n",
       "      <th>Операция</th>\n",
       "      <th>Количество</th>\n",
       "      <th>12-00-2024 День</th>\n",
       "      <th>12-00-2024 Ночь</th>\n",
       "      <th>13-00-2024 День</th>\n",
       "      <th>13-00-2024 Ночь</th>\n",
       "    </tr>\n",
       "  </thead>\n",
       "  <tbody>\n",
       "    <tr>\n",
       "      <th>0</th>\n",
       "      <td>Programmer</td>\n",
       "      <td>Coding</td>\n",
       "      <td>1.0</td>\n",
       "      <td>Да</td>\n",
       "      <td>Да</td>\n",
       "      <td>Да</td>\n",
       "      <td>Нет</td>\n",
       "    </tr>\n",
       "  </tbody>\n",
       "</table>\n",
       "</div>"
      ],
      "text/plain": [
       "    Сотрудник Операция  Количество 12-00-2024 День 12-00-2024 Ночь  \\\n",
       "0  Programmer   Coding         1.0              Да              Да   \n",
       "\n",
       "  13-00-2024 День 13-00-2024 Ночь  \n",
       "0              Да             Нет  "
      ]
     },
     "execution_count": 31,
     "metadata": {},
     "output_type": "execute_result"
    }
   ],
   "source": [
    "import datetime\n",
    "datetime.date(year=2024, day=12,month=12)."
   ]
  },
  {
   "cell_type": "code",
   "execution_count": 22,
   "metadata": {},
   "outputs": [
    {
     "name": "stderr",
     "output_type": "stream",
     "text": [
      "C:\\Users\\ввв\\AppData\\Local\\Temp\\ipykernel_5416\\28707094.py:9: FutureWarning: Styler.applymap has been deprecated. Use Styler.map instead.\n",
      "  merged.style.applymap(color_survived)\n"
     ]
    },
    {
     "data": {
      "text/html": [
       "<style type=\"text/css\">\n",
       "#T_cf282_row0_col0, #T_cf282_row0_col1, #T_cf282_row0_col2 {\n",
       "  background-color: default;\n",
       "}\n",
       "#T_cf282_row0_col3, #T_cf282_row0_col4, #T_cf282_row0_col5, #T_cf282_row0_col6 {\n",
       "  background-color: red;\n",
       "}\n",
       "</style>\n",
       "<table id=\"T_cf282\">\n",
       "  <thead>\n",
       "    <tr>\n",
       "      <th class=\"blank level0\" >&nbsp;</th>\n",
       "      <th id=\"T_cf282_level0_col0\" class=\"col_heading level0 col0\" >Сотрудник</th>\n",
       "      <th id=\"T_cf282_level0_col1\" class=\"col_heading level0 col1\" >Операция</th>\n",
       "      <th id=\"T_cf282_level0_col2\" class=\"col_heading level0 col2\" >Количество</th>\n",
       "      <th id=\"T_cf282_level0_col3\" class=\"col_heading level0 col3\" >12-00-2024 День</th>\n",
       "      <th id=\"T_cf282_level0_col4\" class=\"col_heading level0 col4\" >12-00-2024 Ночь</th>\n",
       "      <th id=\"T_cf282_level0_col5\" class=\"col_heading level0 col5\" >13-00-2024 День</th>\n",
       "      <th id=\"T_cf282_level0_col6\" class=\"col_heading level0 col6\" >13-00-2024 Ночь</th>\n",
       "    </tr>\n",
       "  </thead>\n",
       "  <tbody>\n",
       "    <tr>\n",
       "      <th id=\"T_cf282_level0_row0\" class=\"row_heading level0 row0\" >0</th>\n",
       "      <td id=\"T_cf282_row0_col0\" class=\"data row0 col0\" >Programmer</td>\n",
       "      <td id=\"T_cf282_row0_col1\" class=\"data row0 col1\" >Coding</td>\n",
       "      <td id=\"T_cf282_row0_col2\" class=\"data row0 col2\" >1.000000</td>\n",
       "      <td id=\"T_cf282_row0_col3\" class=\"data row0 col3\" >Нет</td>\n",
       "      <td id=\"T_cf282_row0_col4\" class=\"data row0 col4\" >Нет</td>\n",
       "      <td id=\"T_cf282_row0_col5\" class=\"data row0 col5\" >Нет</td>\n",
       "      <td id=\"T_cf282_row0_col6\" class=\"data row0 col6\" >Нет</td>\n",
       "    </tr>\n",
       "  </tbody>\n",
       "</table>\n"
      ],
      "text/plain": [
       "<pandas.io.formats.style.Styler at 0x23f27ee5450>"
      ]
     },
     "execution_count": 22,
     "metadata": {},
     "output_type": "execute_result"
    }
   ],
   "source": [
    "def color_survived(val):\n",
    "    color = \"default\"\n",
    "    if val == 'Да':\n",
    "        color = 'green'\n",
    "    if val == 'Нет':\n",
    "        color = 'red'\n",
    "    return f'background-color: {color}'\n",
    "\n",
    "merged.style.applymap(color_survived)"
   ]
  },
  {
   "cell_type": "code",
   "execution_count": null,
   "metadata": {},
   "outputs": [],
   "source": []
  }
 ],
 "metadata": {
  "kernelspec": {
   "display_name": ".venv",
   "language": "python",
   "name": "python3"
  },
  "language_info": {
   "codemirror_mode": {
    "name": "ipython",
    "version": 3
   },
   "file_extension": ".py",
   "mimetype": "text/x-python",
   "name": "python",
   "nbconvert_exporter": "python",
   "pygments_lexer": "ipython3",
   "version": "3.13.0"
  }
 },
 "nbformat": 4,
 "nbformat_minor": 2
}
